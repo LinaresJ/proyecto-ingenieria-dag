{
 "cells": [
  {
   "cell_type": "code",
   "execution_count": 0,
   "metadata": {
    "application/vnd.databricks.v1+cell": {
     "cellMetadata": {
      "byteLimit": 2048000,
      "rowLimit": 10000
     },
     "inputWidgets": {},
     "nuid": "015334c8-baa4-492c-968d-16d01eb0bc60",
     "showTitle": false,
     "tableResultSettingsMap": {},
     "title": ""
    }
   },
   "outputs": [],
   "source": [
    "#dbutils.widgets.text(\"TABLE_INPUT_1\", \"g3_catalog.bronze.spark_sql_input_1\")\n",
    "#dbutils.widgets.text(\"TABLE_INPUT_2\", \"g3_catalog.bronze.spark_sql_input_2\")\n",
    "#dbutils.widgets.text(\"TABLE_INPUT_3\", \"g3_catalog.bronze.spark_sql_input_3\")"
   ]
  },
  {
   "cell_type": "code",
   "execution_count": 0,
   "metadata": {
    "application/vnd.databricks.v1+cell": {
     "cellMetadata": {
      "byteLimit": 2048000,
      "rowLimit": 10000
     },
     "inputWidgets": {},
     "nuid": "98352fbd-ab8c-4215-8f22-d2deb7e7eeb1",
     "showTitle": false,
     "tableResultSettingsMap": {},
     "title": ""
    }
   },
   "outputs": [],
   "source": [
    "TABLE_INPUT_1 = dbutils.widgets.get(\"TABLE_INPUT_1\")\n",
    "TABLE_INPUT_2 = dbutils.widgets.get(\"TABLE_INPUT_2\")\n",
    "TABLE_INPUT_3 = dbutils.widgets.get(\"TABLE_INPUT_3\")"
   ]
  },
  {
   "cell_type": "code",
   "execution_count": 0,
   "metadata": {
    "application/vnd.databricks.v1+cell": {
     "cellMetadata": {
      "byteLimit": 2048000,
      "implicitDf": true,
      "rowLimit": 10000
     },
     "inputWidgets": {},
     "nuid": "12189a33-b187-49ff-89cd-1b7a0e5bda2d",
     "showTitle": false,
     "tableResultSettingsMap": {},
     "title": ""
    }
   },
   "outputs": [
    {
     "output_type": "execute_result",
     "data": {
      "text/plain": [
       "DataFrame[num_affected_rows: bigint, num_inserted_rows: bigint]"
      ]
     },
     "execution_count": 92,
     "metadata": {},
     "output_type": "execute_result"
    }
   ],
   "source": [
    "spark.sql(f\"\"\"\n",
    "  CREATE OR REPLACE TABLE {TABLE_INPUT_1} AS\n",
    "  SELECT\n",
    "    claim_id,\n",
    "    user_id,\n",
    "    -- Convierte el BIGINT a DATE\n",
    "    CAST(CAST(date / 1000000000 AS TIMESTAMP) AS DATE) AS date,\n",
    "    diagnosis_code,\n",
    "    amount,\n",
    "    current_timestamp() AS inserted_at\n",
    "  FROM read_files(\n",
    "    'abfss://datalake@stdemdsai.dfs.core.windows.net/raw/airflow/G3/claims.parquet',\n",
    "    format        => 'parquet',\n",
    "    -- El schema de lectura sigue siendo BIGINT, que es el tipo real en el archivo\n",
    "    schema        => 'claim_id STRING,\n",
    "                      user_id STRING,\n",
    "                      date BIGINT,\n",
    "                      diagnosis_code STRING,\n",
    "                      amount BIGINT'\n",
    "  )\n",
    "\"\"\")"
   ]
  },
  {
   "cell_type": "code",
   "execution_count": 0,
   "metadata": {
    "application/vnd.databricks.v1+cell": {
     "cellMetadata": {
      "byteLimit": 2048000,
      "rowLimit": 10000
     },
     "inputWidgets": {},
     "nuid": "b5d8ad3e-a662-4f1b-9618-ec7a938021bc",
     "showTitle": false,
     "tableResultSettingsMap": {},
     "title": ""
    }
   },
   "outputs": [
    {
     "output_type": "execute_result",
     "data": {
      "text/plain": [
       "DataFrame[num_affected_rows: bigint, num_inserted_rows: bigint]"
      ]
     },
     "execution_count": 94,
     "metadata": {},
     "output_type": "execute_result"
    }
   ],
   "source": [
    "spark.sql(f\"\"\"\n",
    "  CREATE OR REPLACE TABLE {TABLE_INPUT_2} AS\n",
    "  SELECT\n",
    "    user_id,\n",
    "    patient_name,\n",
    "    -- Conversión para birth_date\n",
    "    CAST(CAST(birth_date / 1000000000 AS TIMESTAMP) AS DATE) AS birth_date,\n",
    "    gender,\n",
    "    -- Conversión para enrollment_date\n",
    "    CAST(CAST(enrollment_date / 1000000000 AS TIMESTAMP) AS DATE) AS enrollment_date,\n",
    "    -- plan_type,\n",
    "    status,\n",
    "    current_timestamp() AS inserted_at\n",
    "  FROM read_files(\n",
    "    'abfss://datalake@stdemdsai.dfs.core.windows.net/raw/airflow/G3/patients.parquet',\n",
    "    format        => 'parquet',\n",
    "    -- El schema de lectura define los tipos de datos del archivo original\n",
    "    schema        => 'user_id STRING,\n",
    "                      patient_name STRING,\n",
    "                      birth_date BIGINT,\n",
    "                      gender STRING,\n",
    "                      enrollment_date BIGINT,\n",
    "                      status STRING'\n",
    "  )\n",
    "\"\"\")"
   ]
  },
  {
   "cell_type": "code",
   "execution_count": 0,
   "metadata": {
    "application/vnd.databricks.v1+cell": {
     "cellMetadata": {
      "byteLimit": 2048000,
      "rowLimit": 10000
     },
     "inputWidgets": {},
     "nuid": "fea14b60-fc55-495b-95ce-95d16b744777",
     "showTitle": false,
     "tableResultSettingsMap": {},
     "title": ""
    }
   },
   "outputs": [
    {
     "output_type": "execute_result",
     "data": {
      "text/plain": [
       "DataFrame[num_affected_rows: bigint, num_inserted_rows: bigint]"
      ]
     },
     "execution_count": 95,
     "metadata": {},
     "output_type": "execute_result"
    }
   ],
   "source": [
    "spark.sql(f\"\"\"\n",
    "  CREATE OR REPLACE TABLE {TABLE_INPUT_3} AS\n",
    "  SELECT *, current_timestamp() AS inserted_at\n",
    "  FROM read_files(\n",
    "    'abfss://datalake@stdemdsai.dfs.core.windows.net/raw/airflow/G3/cie10_catalog.parquet',\n",
    "    format        => 'parquet',\n",
    "    -- El schema de lectura define los tipos de datos del archivo original\n",
    "    schema        => 'diagnosis_code STRING,\n",
    "                      description_es STRING'\n",
    "  )\n",
    "\"\"\")"
   ]
  },
  {
   "cell_type": "code",
   "execution_count": 0,
   "metadata": {
    "application/vnd.databricks.v1+cell": {
     "cellMetadata": {
      "byteLimit": 2048000,
      "rowLimit": 10000
     },
     "inputWidgets": {},
     "nuid": "de8e6ab0-8390-476d-b963-d387b78adfba",
     "showTitle": false,
     "tableResultSettingsMap": {},
     "title": ""
    }
   },
   "outputs": [
    {
     "output_type": "stream",
     "name": "stdout",
     "output_type": "stream",
     "text": [
      "Se eliminaron las filas con id nulo.\n"
     ]
    }
   ],
   "source": [
    "spark.sql(f\"\"\"\n",
    "  DELETE FROM {TABLE_INPUT_1}\n",
    "  WHERE claim_id IS NULL\n",
    "\"\"\")\n",
    "\n",
    "spark.sql(f\"\"\"\n",
    "  DELETE FROM {TABLE_INPUT_2}\n",
    "  WHERE user_id IS NULL\n",
    "\"\"\")\n",
    "\n",
    "spark.sql(f\"\"\"\n",
    "  DELETE FROM {TABLE_INPUT_3}\n",
    "  WHERE diagnosis_code IS NULL\n",
    "\"\"\")\n",
    "\n",
    "print(\"Se eliminaron las filas con id nulo.\")"
   ]
  }
 ],
 "metadata": {
  "application/vnd.databricks.v1+notebook": {
   "computePreferences": null,
   "dashboards": [],
   "environmentMetadata": {
    "base_environment": "",
    "environment_version": "2"
   },
   "inputWidgetPreferences": null,
   "language": "python",
   "notebookMetadata": {
    "mostRecentlyExecutedCommandWithImplicitDF": {
     "commandId": 6950268314057435,
     "dataframes": [
      "_sqldf"
     ]
    },
    "pythonIndentUnit": 4
   },
   "notebookName": "01_final_extraer",
   "widgets": {
    "TABLE_INPUT": {
     "currentValue": "g3_catalog.bronze.spark_sql_input",
     "nuid": "8a3d87e4-da9e-460b-9ada-19fb59f2a127",
     "typedWidgetInfo": {
      "autoCreated": false,
      "defaultValue": "g3_catalog.bronze.spark_sql_input",
      "label": null,
      "name": "TABLE_INPUT",
      "options": {
       "widgetDisplayType": "Text",
       "validationRegex": null
      },
      "parameterDataType": "String"
     },
     "widgetInfo": {
      "widgetType": "text",
      "defaultValue": "g3_catalog.bronze.spark_sql_input",
      "label": null,
      "name": "TABLE_INPUT",
      "options": {
       "widgetType": "text",
       "autoCreated": null,
       "validationRegex": null
      }
     }
    },
    "TABLE_INPUT_1": {
     "currentValue": "g3_catalog.bronze.spark_sql_input_1",
     "nuid": "d3dc4a23-2450-4142-adb6-8b2edabc5a25",
     "typedWidgetInfo": {
      "autoCreated": false,
      "defaultValue": "g3_catalog.bronze.spark_sql_input_1",
      "label": null,
      "name": "TABLE_INPUT_1",
      "options": {
       "widgetDisplayType": "Text",
       "validationRegex": null
      },
      "parameterDataType": "String"
     },
     "widgetInfo": {
      "widgetType": "text",
      "defaultValue": "g3_catalog.bronze.spark_sql_input_1",
      "label": null,
      "name": "TABLE_INPUT_1",
      "options": {
       "widgetType": "text",
       "autoCreated": null,
       "validationRegex": null
      }
     }
    },
    "TABLE_INPUT_2": {
     "currentValue": "g3_catalog.bronze.spark_sql_input_2",
     "nuid": "c0d7f506-6d21-4ad2-94fc-2dcd347b5897",
     "typedWidgetInfo": {
      "autoCreated": false,
      "defaultValue": "g3_catalog.bronze.spark_sql_input_2",
      "label": null,
      "name": "TABLE_INPUT_2",
      "options": {
       "widgetDisplayType": "Text",
       "validationRegex": null
      },
      "parameterDataType": "String"
     },
     "widgetInfo": {
      "widgetType": "text",
      "defaultValue": "g3_catalog.bronze.spark_sql_input_2",
      "label": null,
      "name": "TABLE_INPUT_2",
      "options": {
       "widgetType": "text",
       "autoCreated": null,
       "validationRegex": null
      }
     }
    },
    "TABLE_INPUT_3": {
     "currentValue": "g3_catalog.bronze.spark_sql_input_3",
     "nuid": "1080917e-7684-4d07-8455-5e4f41572f2a",
     "typedWidgetInfo": {
      "autoCreated": false,
      "defaultValue": "g3_catalog.bronze.spark_sql_input_3",
      "label": null,
      "name": "TABLE_INPUT_3",
      "options": {
       "widgetDisplayType": "Text",
       "validationRegex": null
      },
      "parameterDataType": "String"
     },
     "widgetInfo": {
      "widgetType": "text",
      "defaultValue": "g3_catalog.bronze.spark_sql_input_3",
      "label": null,
      "name": "TABLE_INPUT_3",
      "options": {
       "widgetType": "text",
       "autoCreated": null,
       "validationRegex": null
      }
     }
    }
   }
  },
  "language_info": {
   "name": "python"
  }
 },
 "nbformat": 4,
 "nbformat_minor": 0
}
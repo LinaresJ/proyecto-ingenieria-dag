{
 "cells": [
  {
   "cell_type": "code",
   "execution_count": 0,
   "metadata": {
    "application/vnd.databricks.v1+cell": {
     "cellMetadata": {
      "byteLimit": 2048000,
      "rowLimit": 10000
     },
     "inputWidgets": {},
     "nuid": "8cf2ffa0-164b-4bd2-9a32-ce063b22257d",
     "showTitle": false,
     "tableResultSettingsMap": {},
     "title": ""
    }
   },
   "outputs": [],
   "source": [
    "#dbutils.widgets.text(\"TABLE_TRANSFORM\", \"g3_catalog.silver.spark_sql_transform\")\n",
    "#dbutils.widgets.text(\"TABLE_SUMMARY\", \"g3_catalog.gold.spark_sql_summary\")"
   ]
  },
  {
   "cell_type": "code",
   "execution_count": 0,
   "metadata": {
    "application/vnd.databricks.v1+cell": {
     "cellMetadata": {
      "byteLimit": 2048000,
      "rowLimit": 10000
     },
     "inputWidgets": {},
     "nuid": "ea873fb4-0cd2-40c3-8550-a7cf1aeb8d51",
     "showTitle": false,
     "tableResultSettingsMap": {},
     "title": ""
    }
   },
   "outputs": [],
   "source": [
    "TABLE_TRANSFORM = dbutils.widgets.get(\"TABLE_TRANSFORM\")\n",
    "TABLE_SUMMARY = dbutils.widgets.get(\"TABLE_SUMMARY\")"
   ]
  },
  {
   "cell_type": "code",
   "execution_count": 0,
   "metadata": {
    "application/vnd.databricks.v1+cell": {
     "cellMetadata": {
      "byteLimit": 2048000,
      "rowLimit": 10000
     },
     "inputWidgets": {},
     "nuid": "e3d129e4-48d9-43ef-9e33-18de2fc41ce4",
     "showTitle": false,
     "tableResultSettingsMap": {},
     "title": ""
    }
   },
   "outputs": [
    {
     "output_type": "execute_result",
     "data": {
      "text/plain": [
       "DataFrame[num_affected_rows: bigint, num_inserted_rows: bigint]"
      ]
     },
     "execution_count": 15,
     "metadata": {},
     "output_type": "execute_result"
    }
   ],
   "source": [
    "spark.sql(f\"\"\"\n",
    "  CREATE OR REPLACE TABLE {TABLE_SUMMARY} AS\n",
    "  SELECT\n",
    "    claim_id,\n",
    "    claim_date,\n",
    "    amount,\n",
    "    user_id,\n",
    "    patient_name,\n",
    "    birth_date,\n",
    "    gender,\n",
    "    enrollment_date,\n",
    "    patient_status,\n",
    "    diagnosis_code,\n",
    "    diagnosis_description\n",
    "  FROM (\n",
    "    SELECT\n",
    "      *,\n",
    "      -- 3. Calcula el ranking porcentual de cada reclamo según su monto\n",
    "      PERCENT_RANK() OVER (ORDER BY amount DESC) as amount_rank\n",
    "    FROM\n",
    "      {TABLE_TRANSFORM}\n",
    "    -- 1. Filtra para incluir solo pacientes afiliados\n",
    "    WHERE\n",
    "      user_id IS NOT NULL\n",
    "  )\n",
    "  -- 2. Selecciona solo el 10% superior (donde el ranking es menor o igual a 0.1)\n",
    "  WHERE\n",
    "    amount_rank <= 0.1\n",
    "\"\"\")\n"
   ]
  }
 ],
 "metadata": {
  "application/vnd.databricks.v1+notebook": {
   "computePreferences": null,
   "dashboards": [],
   "environmentMetadata": {
    "base_environment": "",
    "environment_version": "2"
   },
   "inputWidgetPreferences": null,
   "language": "python",
   "notebookMetadata": {
    "mostRecentlyExecutedCommandWithImplicitDF": {
     "commandId": 2147048906643051,
     "dataframes": [
      "_sqldf"
     ]
    },
    "pythonIndentUnit": 4
   },
   "notebookName": "03_final_resumir",
   "widgets": {
    "TABLE_SUMMARY": {
     "currentValue": "g3_catalog.gold.spark_sql_summary",
     "nuid": "d2d64ca3-2409-47f3-a7e8-7e10e4d78468",
     "typedWidgetInfo": {
      "autoCreated": false,
      "defaultValue": "g3_catalog.gold.spark_sql_summary",
      "label": null,
      "name": "TABLE_SUMMARY",
      "options": {
       "widgetDisplayType": "Text",
       "validationRegex": null
      },
      "parameterDataType": "String"
     },
     "widgetInfo": {
      "widgetType": "text",
      "defaultValue": "g3_catalog.gold.spark_sql_summary",
      "label": null,
      "name": "TABLE_SUMMARY",
      "options": {
       "widgetType": "text",
       "autoCreated": null,
       "validationRegex": null
      }
     }
    },
    "TABLE_TRANSFORM": {
     "currentValue": "g3_catalog.silver.spark_sql_transform",
     "nuid": "5f2050b0-773b-4f62-ade1-25a3889e5611",
     "typedWidgetInfo": {
      "autoCreated": false,
      "defaultValue": "g3_catalog.silver.spark_sql_transform",
      "label": null,
      "name": "TABLE_TRANSFORM",
      "options": {
       "widgetDisplayType": "Text",
       "validationRegex": null
      },
      "parameterDataType": "String"
     },
     "widgetInfo": {
      "widgetType": "text",
      "defaultValue": "g3_catalog.silver.spark_sql_transform",
      "label": null,
      "name": "TABLE_TRANSFORM",
      "options": {
       "widgetType": "text",
       "autoCreated": null,
       "validationRegex": null
      }
     }
    }
   }
  },
  "language_info": {
   "name": "python"
  }
 },
 "nbformat": 4,
 "nbformat_minor": 0
}
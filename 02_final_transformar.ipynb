{
 "cells": [
  {
   "cell_type": "code",
   "execution_count": 0,
   "metadata": {
    "application/vnd.databricks.v1+cell": {
     "cellMetadata": {
      "byteLimit": 2048000,
      "rowLimit": 10000
     },
     "inputWidgets": {},
     "nuid": "1129793a-a2dd-435c-a679-1ede3a521628",
     "showTitle": false,
     "tableResultSettingsMap": {},
     "title": ""
    }
   },
   "outputs": [],
   "source": [
    "#dbutils.widgets.text(\"TABLE_INPUT_1\", \"g3_catalog.bronze.spark_sql_input_1\")\n",
    "#dbutils.widgets.text(\"TABLE_INPUT_2\", \"g3_catalog.bronze.spark_sql_input_2\")\n",
    "#dbutils.widgets.text(\"TABLE_INPUT_3\", \"g3_catalog.bronze.spark_sql_input_3\")\n",
    "#dbutils.widgets.text(\"TABLE_TRANSFORM\", \"g3_catalog.silver.spark_sql_transform\")"
   ]
  },
  {
   "cell_type": "code",
   "execution_count": 0,
   "metadata": {
    "application/vnd.databricks.v1+cell": {
     "cellMetadata": {
      "byteLimit": 2048000,
      "rowLimit": 10000
     },
     "inputWidgets": {},
     "nuid": "279e7e50-44a6-422c-8751-c1c7a1f6d067",
     "showTitle": false,
     "tableResultSettingsMap": {},
     "title": ""
    }
   },
   "outputs": [],
   "source": [
    "TABLE_INPUT_1 = dbutils.widgets.get(\"TABLE_INPUT_1\")\n",
    "TABLE_INPUT_2 = dbutils.widgets.get(\"TABLE_INPUT_2\")\n",
    "TABLE_INPUT_3 = dbutils.widgets.get(\"TABLE_INPUT_3\")\n",
    "TABLE_TRANSFORM = dbutils.widgets.get(\"TABLE_TRANSFORM\")"
   ]
  },
  {
   "cell_type": "code",
   "execution_count": 0,
   "metadata": {
    "application/vnd.databricks.v1+cell": {
     "cellMetadata": {
      "byteLimit": 2048000,
      "implicitDf": true,
      "rowLimit": 10000
     },
     "inputWidgets": {},
     "nuid": "1e705401-977d-40a7-b120-7e431603512f",
     "showTitle": false,
     "tableResultSettingsMap": {},
     "title": ""
    }
   },
   "outputs": [
    {
     "output_type": "stream",
     "name": "stdout",
     "output_type": "stream",
     "text": [
      "Tabla enriquecida creada con éxito en: g3_catalog.silver.spark_sql_transform\n"
     ]
    }
   ],
   "source": [
    "spark.sql(f\"\"\"\n",
    "  CREATE OR REPLACE TABLE {TABLE_TRANSFORM} AS\n",
    "  SELECT\n",
    "    c.claim_id,\n",
    "    c.date AS claim_date,\n",
    "    c.amount,\n",
    "    c.user_id,\n",
    "    p.patient_name,\n",
    "    p.birth_date,\n",
    "    p.gender,\n",
    "    p.enrollment_date,\n",
    "    p.status AS patient_status,\n",
    "    c.diagnosis_code,\n",
    "    cat.description_es AS diagnosis_description,\n",
    "    current_timestamp() AS inserted_at\n",
    "  FROM\n",
    "    {TABLE_INPUT_1} AS c\n",
    "  LEFT JOIN\n",
    "    {TABLE_INPUT_2} AS p ON c.user_id = p.user_id\n",
    "  LEFT JOIN\n",
    "    {TABLE_INPUT_3} AS cat ON c.diagnosis_code = cat.diagnosis_code\n",
    "\"\"\")\n",
    "\n",
    "print(f\"Tabla enriquecida creada con éxito en: {TABLE_TRANSFORM}\")"
   ]
  }
 ],
 "metadata": {
  "application/vnd.databricks.v1+notebook": {
   "computePreferences": null,
   "dashboards": [],
   "environmentMetadata": {
    "base_environment": "",
    "environment_version": "2"
   },
   "inputWidgetPreferences": null,
   "language": "python",
   "notebookMetadata": {
    "mostRecentlyExecutedCommandWithImplicitDF": {
     "commandId": 8567316974250903,
     "dataframes": [
      "_sqldf"
     ]
    },
    "pythonIndentUnit": 4
   },
   "notebookName": "02_final_transformar",
   "widgets": {
    "TABLE_INPUT": {
     "currentValue": "g3_catalog.bronze.spark_sql_input",
     "nuid": "524ce724-5b19-4212-a546-6e53ff931906",
     "typedWidgetInfo": {
      "autoCreated": false,
      "defaultValue": "g3_catalog.bronze.spark_sql_input",
      "label": null,
      "name": "TABLE_INPUT",
      "options": {
       "widgetDisplayType": "Text",
       "validationRegex": null
      },
      "parameterDataType": "String"
     },
     "widgetInfo": {
      "widgetType": "text",
      "defaultValue": "g3_catalog.bronze.spark_sql_input",
      "label": null,
      "name": "TABLE_INPUT",
      "options": {
       "widgetType": "text",
       "autoCreated": false,
       "validationRegex": null
      }
     }
    },
    "TABLE_INPUT_1": {
     "currentValue": "g3_catalog.bronze.spark_sql_input_1",
     "nuid": "1197c723-b628-43c3-9a50-6712dde5891e",
     "typedWidgetInfo": {
      "autoCreated": false,
      "defaultValue": "g3_catalog.bronze.spark_sql_input_1",
      "label": null,
      "name": "TABLE_INPUT_1",
      "options": {
       "widgetDisplayType": "Text",
       "validationRegex": null
      },
      "parameterDataType": "String"
     },
     "widgetInfo": {
      "widgetType": "text",
      "defaultValue": "g3_catalog.bronze.spark_sql_input_1",
      "label": null,
      "name": "TABLE_INPUT_1",
      "options": {
       "widgetType": "text",
       "autoCreated": null,
       "validationRegex": null
      }
     }
    },
    "TABLE_INPUT_2": {
     "currentValue": "g3_catalog.bronze.spark_sql_input_2",
     "nuid": "8be6c209-a609-4f64-a7e9-09e76ddc14c7",
     "typedWidgetInfo": {
      "autoCreated": false,
      "defaultValue": "g3_catalog.bronze.spark_sql_input_2",
      "label": null,
      "name": "TABLE_INPUT_2",
      "options": {
       "widgetDisplayType": "Text",
       "validationRegex": null
      },
      "parameterDataType": "String"
     },
     "widgetInfo": {
      "widgetType": "text",
      "defaultValue": "g3_catalog.bronze.spark_sql_input_2",
      "label": null,
      "name": "TABLE_INPUT_2",
      "options": {
       "widgetType": "text",
       "autoCreated": null,
       "validationRegex": null
      }
     }
    },
    "TABLE_INPUT_3": {
     "currentValue": "g3_catalog.bronze.spark_sql_input_3",
     "nuid": "1e0b46df-088d-4f7e-ba85-3a9a80bd974e",
     "typedWidgetInfo": {
      "autoCreated": false,
      "defaultValue": "g3_catalog.bronze.spark_sql_input_3",
      "label": null,
      "name": "TABLE_INPUT_3",
      "options": {
       "widgetDisplayType": "Text",
       "validationRegex": null
      },
      "parameterDataType": "String"
     },
     "widgetInfo": {
      "widgetType": "text",
      "defaultValue": "g3_catalog.bronze.spark_sql_input_3",
      "label": null,
      "name": "TABLE_INPUT_3",
      "options": {
       "widgetType": "text",
       "autoCreated": null,
       "validationRegex": null
      }
     }
    },
    "TABLE_TRANSFORM": {
     "currentValue": "g3_catalog.silver.spark_sql_transform",
     "nuid": "e352c08e-a861-4b1a-ba81-2835b6d4ee11",
     "typedWidgetInfo": {
      "autoCreated": false,
      "defaultValue": "g3_catalog.silver.spark_sql_transform",
      "label": null,
      "name": "TABLE_TRANSFORM",
      "options": {
       "widgetDisplayType": "Text",
       "validationRegex": null
      },
      "parameterDataType": "String"
     },
     "widgetInfo": {
      "widgetType": "text",
      "defaultValue": "g3_catalog.silver.spark_sql_transform",
      "label": null,
      "name": "TABLE_TRANSFORM",
      "options": {
       "widgetType": "text",
       "autoCreated": null,
       "validationRegex": null
      }
     }
    }
   }
  },
  "language_info": {
   "name": "python"
  }
 },
 "nbformat": 4,
 "nbformat_minor": 0
}